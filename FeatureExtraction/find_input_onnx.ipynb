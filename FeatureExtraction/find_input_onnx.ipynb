{
 "cells": [
  {
   "cell_type": "code",
   "execution_count": 6,
   "id": "aca08801",
   "metadata": {},
   "outputs": [
    {
     "name": "stdout",
     "output_type": "stream",
     "text": [
      "Requirement already satisfied: onnx in c:\\users\\pkastner\\.conda\\envs\\datascience\\lib\\site-packages (1.18.0)\n",
      "Requirement already satisfied: numpy>=1.22 in c:\\users\\pkastner\\.conda\\envs\\datascience\\lib\\site-packages (from onnx) (2.3.1)\n",
      "Requirement already satisfied: protobuf>=4.25.1 in c:\\users\\pkastner\\.conda\\envs\\datascience\\lib\\site-packages (from onnx) (6.31.1)\n",
      "Requirement already satisfied: typing_extensions>=4.7.1 in c:\\users\\pkastner\\.conda\\envs\\datascience\\lib\\site-packages (from onnx) (4.14.0)\n"
     ]
    }
   ],
   "source": [
    "!pip install onnx"
   ]
  },
  {
   "cell_type": "code",
   "execution_count": 7,
   "id": "92046ea4",
   "metadata": {},
   "outputs": [
    {
     "name": "stdout",
     "output_type": "stream",
     "text": [
      "Model Inputs:\n",
      " Input Name: input\n",
      "   Shape: ['dynamic', 10]\n",
      "   Data Type: FLOAT\n",
      "--------------------------------------------------\n",
      "\n",
      " Model Initializers (Possible Missing Inputs):\n",
      "\n",
      " Model Nodes:\n",
      "Node: TreeEnsembleRegressor, Inputs: ['input'], Outputs: ['variable']\n"
     ]
    }
   ],
   "source": [
    "import onnx\n",
    "from onnx import TensorProto\n",
    "from pathlib import Path\n",
    "\n",
    "# Load the ONNX model\n",
    "model_path = Path.cwd().parent / \"GHScript\" / \"gbr_best_Y1_compat_2.onnx\"\n",
    "model = onnx.load(model_path)\n",
    "\n",
    "# Get model graph\n",
    "graph = model.graph\n",
    "\n",
    "# ONNX data type mapping\n",
    "onnx_dtype_map = {v: k for k, v in TensorProto.DataType.items()}\n",
    "\n",
    "# Extract and print inputs\n",
    "print(\"Model Inputs:\")\n",
    "for inp in graph.input:\n",
    "    name = inp.name\n",
    "    shape_dims = [dim.dim_value if dim.HasField(\"dim_value\") else \"dynamic\" for dim in inp.type.tensor_type.shape.dim]\n",
    "    dtype = onnx_dtype_map.get(inp.type.tensor_type.elem_type, \"Unknown\")\n",
    "    \n",
    "    print(f\" Input Name: {name}\")\n",
    "    print(f\"   Shape: {shape_dims}\")\n",
    "    print(f\"   Data Type: {dtype}\")\n",
    "    print(\"-\" * 50)\n",
    "\n",
    "# Extract and print initializers (which might contain missing inputs)\n",
    "print(\"\\n Model Initializers (Possible Missing Inputs):\")\n",
    "for init in graph.initializer:\n",
    "    print(f\"Initializer Name: {init.name}, Shape: {init.dims}, Data Type: {onnx_dtype_map.get(init.data_type, 'Unknown')}\")\n",
    "\n",
    "# Check if any input is actually an initializer\n",
    "initializer_names = {init.name for init in graph.initializer}\n",
    "for inp in graph.input:\n",
    "    if inp.name in initializer_names:\n",
    "        print(f\"⚠️ Warning: Input {inp.name} is actually an initializer (constant).\")\n",
    "print(\"\\n Model Nodes:\")\n",
    "for node in graph.node:\n",
    "    print(f\"Node: {node.op_type}, Inputs: {node.input}, Outputs: {node.output}\")\n"
   ]
  }
 ],
 "metadata": {
  "kernelspec": {
   "display_name": "datascience",
   "language": "python",
   "name": "python3"
  },
  "language_info": {
   "codemirror_mode": {
    "name": "ipython",
    "version": 3
   },
   "file_extension": ".py",
   "mimetype": "text/x-python",
   "name": "python",
   "nbconvert_exporter": "python",
   "pygments_lexer": "ipython3",
   "version": "3.13.5"
  }
 },
 "nbformat": 4,
 "nbformat_minor": 5
}
